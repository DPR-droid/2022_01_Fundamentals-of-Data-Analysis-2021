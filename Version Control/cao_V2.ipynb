{
 "cells": [
  {
   "cell_type": "code",
   "execution_count": null,
   "metadata": {},
   "outputs": [],
   "source": [
    "#  CAO Points Analysis"
   ]
  },
  {
   "cell_type": "markdown",
   "metadata": {},
   "source": [
    "# Imports"
   ]
  },
  {
   "cell_type": "code",
   "execution_count": 12,
   "metadata": {},
   "outputs": [],
   "source": [
    "# Regular expressions \n",
    "import re\n",
    "# Convenient HTTP requests\n",
    "import requests as rq\n",
    "# Dates and times\n",
    "import datetime as dt\n",
    "# Import numpy module\n",
    "import numpy as np\n",
    "# For downloading.\n",
    "import urllib.request as urlrq\n",
    "import urllib.parse as urlpar\n",
    "# Import tabula to read table in pdf\n",
    "import tabula as tb\n",
    "# Import mathplotlib\n",
    "import matplotlib.pyplot as plt\n",
    "# Import time\n",
    "import time\n",
    "# import seaborn\n",
    "import seaborn as sns\n",
    "# import warnings\n",
    "import warnings\n",
    "warnings.filterwarnings(\"ignore\")"
   ]
  },
  {
   "cell_type": "markdown",
   "metadata": {},
   "source": [
    "# Error Checks"
   ]
  },
  {
   "cell_type": "code",
   "execution_count": 5,
   "metadata": {},
   "outputs": [
    {
     "name": "stdout",
     "output_type": "stream",
     "text": [
      "20211220_144859\n"
     ]
    }
   ],
   "source": [
    "########################################################################\n",
    "# Set Datetime\n",
    "########################################################################\n",
    "# Get the current date and time\n",
    "now = dt.datetime.now()\n",
    "\n",
    "# format as a string\n",
    "nowstr = now.strftime('%Y%m%d_%H%M%S')\n",
    "\n",
    "print(nowstr)"
   ]
  },
  {
   "cell_type": "code",
   "execution_count": 6,
   "metadata": {},
   "outputs": [],
   "source": [
    "########################################################################\n",
    "# Function to test URLs\n",
    "# https://pytutorial.com/check-url-is-reachable\n",
    "########################################################################\n",
    "def url_checker(url):\n",
    "\ttry:\n",
    "\t\t#Get Url\n",
    "\t\tresp = rq.get(url)\n",
    "\t\t# if the request succeeds\n",
    "\t\tif resp.status_code == 404:\n",
    "\t\t\tprint(f\"{url}: is not reachable\")\n",
    "\t\telse:\n",
    "\t\t\tprint(f\"{url}: is reachable\")\n",
    "\t\t\t\n",
    "\n",
    "\t#Exception\n",
    "\texcept rq.exceptions.RequestException as e:\n",
    "        # print URL with Errs\n",
    "\t\traise SystemExit(print(f\"{url}: is Not reachable \\nErr: {e}\"))"
   ]
  },
  {
   "cell_type": "code",
   "execution_count": 8,
   "metadata": {},
   "outputs": [],
   "source": [
    "########################################################################\n",
    "# Function to save CAO Webpages \n",
    "########################################################################\n",
    "\n",
    "def htmlcopy(url):\n",
    "    # Fetch the CAO points URL\n",
    "    resp = rq.get(url)\n",
    "    # Check connection '<Response [200]>' means OK\n",
    "    if resp.status_code == 200:\n",
    "        print(f\"{url}: is reachable\")\n",
    "\n",
    "        path = 'data/' + nowstr + '_CAO_Webpage_' + url[-4:] + '.html'\n",
    "        print(str(path))\n",
    "\n",
    "        # Save the original html file.\n",
    "        with open(path, 'w') as f:\n",
    "            f.write(resp.text)\n",
    "    else:\n",
    "        print(f\"{url}: is not reachable\")\n",
    "    "
   ]
  },
  {
   "cell_type": "code",
   "execution_count": 13,
   "metadata": {},
   "outputs": [],
   "source": [
    "########################################################################\n",
    "# Function to save files\n",
    "########################################################################\n",
    "\n",
    "def caosavefile(url):\n",
    "    split = urlpar.urlsplit(url)\n",
    "    path = 'data/' + nowstr + '_CAO_file_' + split.path.split(\"/\")[-1]\n",
    "    print(str(path))\n",
    "    urlrq.urlretrieve(url, path)\n",
    "\n"
   ]
  },
  {
   "cell_type": "code",
   "execution_count": 14,
   "metadata": {},
   "outputs": [
    {
     "name": "stdout",
     "output_type": "stream",
     "text": [
      "https://www.cao.ie/index.php?page=points&p=2018: is reachable\n",
      "data/20211220_144859_CAO_Webpage_2018.html\n",
      "data/20211220_144859_CAO_file_index.php\n",
      "https://www.cao.ie/index.php?page=points&p=2019: is reachable\n",
      "data/20211220_144859_CAO_Webpage_2019.html\n",
      "data/20211220_144859_CAO_file_index.php\n",
      "https://www.cao.ie/index.php?page=points&p=2020: is reachable\n",
      "data/20211220_144859_CAO_Webpage_2020.html\n",
      "data/20211220_144859_CAO_file_index.php\n",
      "https://www.cao.ie/index.php?page=points&p=2021: is reachable\n",
      "data/20211220_144859_CAO_Webpage_2021.html\n",
      "data/20211220_144859_CAO_file_index.php\n"
     ]
    }
   ],
   "source": [
    "########################################################################\n",
    "# CAO web pages\n",
    "# https://www.cao.ie/index.php?page=points&p=2018\n",
    "# https://www.cao.ie/index.php?page=points&p=2019\n",
    "# https://www.cao.ie/index.php?page=points&p=2020\n",
    "# https://www.cao.ie/index.php?page=points&p=2021\n",
    "########################################################################\n",
    "\n",
    "html2018 = 'https://www.cao.ie/index.php?page=points&p=2018'\n",
    "html2019 = 'https://www.cao.ie/index.php?page=points&p=2019'\n",
    "html2020 = 'https://www.cao.ie/index.php?page=points&p=2020'\n",
    "html2021 = 'https://www.cao.ie/index.php?page=points&p=2021'\n",
    "\n",
    "caopointshtml = [html2018,html2019,html2020,html2021]\n",
    "\n",
    "for url in caopointshtml:\n",
    "    htmlcopy(url)"
   ]
  },
  {
   "cell_type": "code",
   "execution_count": 15,
   "metadata": {},
   "outputs": [
    {
     "name": "stdout",
     "output_type": "stream",
     "text": [
      "http://www2.cao.ie/points/CAOPointsCharts2021.xlsx: is reachable\n",
      "data/20211220_144859_CAO_file_CAOPointsCharts2021.xlsx\n",
      "http://www2.cao.ie/points/CAOPointsCharts2020.xlsx: is reachable\n",
      "data/20211220_144859_CAO_file_CAOPointsCharts2020.xlsx\n",
      "http://www2.cao.ie/points/lvl8_19.pdf: is reachable\n",
      "data/20211220_144859_CAO_file_lvl8_19.pdf\n",
      "http://www2.cao.ie/points/lvl76_19.pdf: is reachable\n",
      "data/20211220_144859_CAO_file_lvl76_19.pdf\n",
      "http://www2.cao.ie/points/lvl8_18.pdf: is reachable\n",
      "data/20211220_144859_CAO_file_lvl8_18.pdf\n",
      "http://www2.cao.ie/points/lvl76_18.pdf: is reachable\n",
      "data/20211220_144859_CAO_file_lvl76_18.pdf\n"
     ]
    }
   ],
   "source": [
    "########################################################################\n",
    "# CAO points files\n",
    "# http://www2.cao.ie/points/lvl8_18.pdf\n",
    "# http://www2.cao.ie/points/lvl76_18.pdf\n",
    "# http://www2.cao.ie/points/lvl8_19.pdf\n",
    "# http://www2.cao.ie/points/lvl76_19.pdf\n",
    "# http://www2.cao.ie/points/CAOPointsCharts2020.xlsx\n",
    "# http://www2.cao.ie/points/CAOPointsCharts2021.xlsx\n",
    "########################################################################\n",
    "CAO2021 = 'http://www2.cao.ie/points/CAOPointsCharts2021.xlsx'\n",
    "CAO2020 = 'http://www2.cao.ie/points/CAOPointsCharts2020.xlsx'\n",
    "CAO2019_8 = 'http://www2.cao.ie/points/lvl8_19.pdf'\n",
    "CAO2019_76 = 'http://www2.cao.ie/points/lvl76_19.pdf'\n",
    "CAO2018_8 = 'http://www2.cao.ie/points/lvl8_18.pdf'\n",
    "CAO2018_76 = 'http://www2.cao.ie/points/lvl76_18.pdf'\n",
    "\n",
    "########################################################################\n",
    "# List of URL \n",
    "# Use function to test if available\n",
    "########################################################################\n",
    "caopointslist = [CAO2021,CAO2020,CAO2019_8, CAO2019_76,CAO2018_8, CAO2018_76]\n",
    "\n",
    "for url in caopointslist:\n",
    "    url_checker(url)\n",
    "    caosavefile(url)\n",
    "    "
   ]
  },
  {
   "cell_type": "markdown",
   "metadata": {},
   "source": [
    "# 2021 CAO Points\n",
    "\n",
    "http://www2.cao.ie/points/CAOPointsCharts2021.xlsx"
   ]
  },
  {
   "cell_type": "code",
   "execution_count": null,
   "metadata": {},
   "outputs": [],
   "source": []
  },
  {
   "cell_type": "markdown",
   "metadata": {},
   "source": [
    "<br>\n",
    "\n",
    "# Use regular expressions to select lines required\n",
    "***\n",
    "\n",
    "# Online Web tools used\n",
    "\n",
    "Test regex on \n",
    "https://pythex.org/\n",
    "\n",
    "Compare output of files using notepad ++ plugin\n",
    "http://www.technicaloverload.com/compare-two-files-using-notepad/"
   ]
  },
  {
   "cell_type": "code",
   "execution_count": null,
   "metadata": {},
   "outputs": [],
   "source": [
    "# Compile the regular expression for matching lines with courses\n",
    "# Documentation for re (regular expression)\n",
    "# https://docs.python.org/3/library/re.html\n",
    "\n",
    "# Copy of cao.csv orginal copy shows circa 949 lines\n",
    "\n",
    "# Test of orginal re = 949\n",
    "#re_course  = re.compile('([A-Z]{2}[0-9]{3})  .*([0-9]{3})')\n",
    "#re_course  = re.compile('(\\w{2}\\d{3})\\s{2}.*([0-9]{3})')\n",
    "re_course = re.compile(r'([A-Z]{2}[0-9]{3})(.*)')\n",
    "\n",
    "# Test of new re = 922\n",
    "# re_course = re.compile(r'([A-Z]{2}[0-9]{3})  .*(\\d{3}|[AQA]) *')\n",
    "\n",
    "# Test of re = 949\n",
    "# re_course  = re.compile('([A-Z]{2}[0-9]{3}).*(\\#?|[0-9]{3}|[AQA]|\\*?)')\n",
    "\n",
    "# Test of re = 836\n",
    "#re_course  = re.compile(r'([A-Z]{2}[0-9]{3})  (.*)(\\#?|[0-9]{3}|[AQA]\\*?) *')\n",
    "\n",
    "# Other test regex\n",
    "# re_course  = re.compile(r'([A-Z]{2}[0-9]{3})  (.*)\\s+(\\#?([0-9]{3})\\*?).*')\n",
    "# re_course  = re.compile(r'([A-Z]{2}[0-9]{3})\\s+(.*)\\s+(\\#?[0-9]{3}\\*?)\\s+(\\#?[0-9]{3}\\*?)')"
   ]
  },
  {
   "cell_type": "markdown",
   "metadata": {},
   "source": [
    "<br>\n",
    "\n",
    "Loop throught the lines of response content from CAO\n",
    "\n",
    "Copy of cao.csv orginal copy shows circa 949 lines\n",
    "\n",
    "***"
   ]
  },
  {
   "cell_type": "code",
   "execution_count": null,
   "metadata": {},
   "outputs": [],
   "source": [
    "# The file path for the csv file.\n",
    "path = 'data/cao2021_csv_' + nowstr + '.csv'\n",
    "\n",
    "# Keep track of how many courses we process.\n",
    "no_lines = 0\n",
    "\n",
    "# Open the csv file for writing.\n",
    "with open(path, 'w') as f:\n",
    "    # Loop through lines of the response.\n",
    "    for line in resp.iter_lines():\n",
    "        # Decode the line, using the wrong encoding!\n",
    "        dline = line.decode('cp1252')\n",
    "        # Match only the lines representing courses.\n",
    "        if re_course.fullmatch(dline):\n",
    "            # Add one to the lines counter.\n",
    "            no_lines = no_lines + 1\n",
    "            # The course code.\n",
    "            course_code = dline[:5]\n",
    "            # The course title.\n",
    "            course_title = dline[7:57]\n",
    "            # Round one points.\n",
    "            course_points = re.split(' +', dline[60:])\n",
    "            if len(course_points) != 2:\n",
    "                course_points = course_points[:2]\n",
    "            # Join the fields using a comma.\n",
    "            linesplit = [course_code, course_title, course_points[0], course_points[1]]\n",
    "            # Rejoin the substrings with commas in between.\n",
    "            f.write(','.join(linesplit) + '\\n')\n",
    "\n",
    "# Print the total number of processed lines.\n",
    "print(f\"Total number of lines is {no_lines}.\")"
   ]
  },
  {
   "cell_type": "markdown",
   "metadata": {},
   "source": [
    "# 2020 Points\n",
    "\n",
    "https://www.cao.ie/index.php?page=points&p=2020"
   ]
  },
  {
   "cell_type": "code",
   "execution_count": null,
   "metadata": {},
   "outputs": [],
   "source": [
    "# Save file path for the orginal data\n",
    "path = 'data/cao2020_' + nowstr + '.xlsx'"
   ]
  },
  {
   "cell_type": "code",
   "execution_count": null,
   "metadata": {},
   "outputs": [],
   "source": [
    "# get data from cao and save to path\n",
    "urlrq.urlretrieve('http://www2.cao.ie/points/CAOPointsCharts2020.xlsx', path)\n"
   ]
  },
  {
   "cell_type": "markdown",
   "metadata": {},
   "source": [
    "## Load the spreadsheet using pandas\n",
    "\n",
    "***"
   ]
  },
  {
   "cell_type": "code",
   "execution_count": null,
   "metadata": {},
   "outputs": [],
   "source": [
    "# Download and parse the excel spreadsheet.\n",
    "df = pd.read_excel('http://www2.cao.ie/points/CAOPointsCharts2020.xlsx', skiprows=10)"
   ]
  },
  {
   "cell_type": "code",
   "execution_count": null,
   "metadata": {},
   "outputs": [],
   "source": [
    "# Spot check on the excel file\n",
    "df.iloc[800]"
   ]
  },
  {
   "cell_type": "code",
   "execution_count": null,
   "metadata": {},
   "outputs": [],
   "source": [
    "# Spot check the last row.\n",
    "df.iloc[-1]"
   ]
  },
  {
   "cell_type": "code",
   "execution_count": null,
   "metadata": {},
   "outputs": [],
   "source": [
    "# first five rows of dataframe\n",
    "df.iloc[0:5]"
   ]
  },
  {
   "cell_type": "code",
   "execution_count": null,
   "metadata": {},
   "outputs": [],
   "source": [
    "# 1st, 4th, 7th, 25th row + 1st 8th 10th columns.\n",
    "df.iloc[[0,3,6,24], [0,7,9]] "
   ]
  },
  {
   "cell_type": "code",
   "execution_count": null,
   "metadata": {},
   "outputs": [],
   "source": [
    "# Create a file path for the pandas data.\n",
    "path = 'data/cao2020_' + nowstr + '.csv'"
   ]
  },
  {
   "cell_type": "code",
   "execution_count": null,
   "metadata": {},
   "outputs": [],
   "source": [
    "# Save pandas data frame to disk.\n",
    "df.to_csv(path)"
   ]
  },
  {
   "cell_type": "markdown",
   "metadata": {},
   "source": [
    "# 2019 Points\n",
    "\n",
    "https://www.cao.ie/index.php?page=points&p=2019\n",
    "\n",
    "***"
   ]
  },
  {
   "cell_type": "code",
   "execution_count": null,
   "metadata": {},
   "outputs": [],
   "source": [
    "# Save file path for the orginal data\n",
    "path = 'data/cao2019_' + nowstr + '.pdf'\n",
    "\n",
    "# get data from cao and save to path\n",
    "urlrq.urlretrieve('http://www2.cao.ie/points/lvl8_19.pdf', path)\n",
    "\n",
    "\n",
    "#df2019 = pd.read_csv('data/cao2019_20211029_113930_edited.csv', sep='\\t')"
   ]
  },
  {
   "cell_type": "markdown",
   "metadata": {},
   "source": [
    "## Load the pdf using pandas\n",
    "\n",
    "***"
   ]
  },
  {
   "cell_type": "code",
   "execution_count": null,
   "metadata": {},
   "outputs": [],
   "source": [
    "# Download and parse the pdf with tabula module\n",
    "# \n",
    "# import module tabula\n",
    "# Documentation\n",
    "# https://pypi.org/project/tabula-py/\n",
    "df = tb.read_pdf('http://www2.cao.ie/points/lvl8_19.pdf', pages='all')\n",
    "\n",
    "df"
   ]
  },
  {
   "cell_type": "code",
   "execution_count": null,
   "metadata": {},
   "outputs": [],
   "source": [
    "# Create csv path\n",
    "csvpath = 'data/cao2019_' + nowstr + '.csv'\n",
    "\n",
    "# Convert pdf to csv\n",
    "tb.convert_into( path , csvpath, output_format=\"csv\", pages='all')"
   ]
  },
  {
   "cell_type": "markdown",
   "metadata": {},
   "source": [
    "## Read csv into Pandas Dataframe\n",
    "\n",
    "Clean data and remove colleges\n",
    "\n",
    "- There is [965 rows x 4 columns] in the orignal dataframe.\n",
    "- There is 35 Colleges\n",
    "- All Colleges have NaN included\n",
    "- Remove all colleges from dataframe "
   ]
  },
  {
   "cell_type": "code",
   "execution_count": null,
   "metadata": {},
   "outputs": [],
   "source": [
    "# Read csv as a pandas dataframe\n",
    "df2019 = pd.read_csv(csvpath, sep=',')\n",
    "\n",
    "print(df2019)"
   ]
  },
  {
   "cell_type": "code",
   "execution_count": null,
   "metadata": {},
   "outputs": [],
   "source": [
    "# All row with colleges have NAN \n",
    "# Find all rows that have NAN as a value\n",
    "# https://www.geeksforgeeks.org/working-with-missing-data-in-pandas/\n",
    "\n",
    "# creating bool series True for NaN values \n",
    "bool_series = pd.isnull(df2019[\"Course Code\"]) \n",
    "    \n",
    "# filtering data \n",
    "# displaying data only with Course Code = NaN \n",
    "df2019[bool_series]\n"
   ]
  },
  {
   "cell_type": "code",
   "execution_count": null,
   "metadata": {},
   "outputs": [],
   "source": [
    "# Count how many rows have NaN\n",
    "# https://datatofish.com/count-nan-pandas-dataframe/\n",
    "count_nan = df2019['Course Code'].isna().sum()\n",
    "\n",
    "print ('Count of NaN: ' + str(count_nan))"
   ]
  },
  {
   "cell_type": "code",
   "execution_count": null,
   "metadata": {},
   "outputs": [],
   "source": [
    "# Drop rows with NAN\n",
    "# https://www.kite.com/python/answers/how-to-drop-empty-rows-from-a-pandas-dataframe-in-python\n",
    "\n",
    "df2019.dropna(subset = ['Course Code'], inplace=True)\n",
    "\n",
    "print(df2019)"
   ]
  },
  {
   "cell_type": "markdown",
   "metadata": {},
   "source": [
    "# End"
   ]
  },
  {
   "cell_type": "code",
   "execution_count": null,
   "metadata": {},
   "outputs": [],
   "source": [
    "df = tb.read_pdf('http://www2.cao.ie/points/lvl8_10.pdf', pages='all')\n",
    "\n",
    "df"
   ]
  },
  {
   "cell_type": "markdown",
   "metadata": {},
   "source": []
  },
  {
   "cell_type": "code",
   "execution_count": null,
   "metadata": {},
   "outputs": [],
   "source": []
  },
  {
   "cell_type": "code",
   "execution_count": null,
   "metadata": {},
   "outputs": [],
   "source": []
  },
  {
   "cell_type": "markdown",
   "metadata": {},
   "source": []
  },
  {
   "cell_type": "code",
   "execution_count": null,
   "metadata": {},
   "outputs": [],
   "source": []
  }
 ],
 "metadata": {
  "interpreter": {
   "hash": "b3ba2566441a7c06988d0923437866b63cedc61552a5af99d1f4fb67d367b25f"
  },
  "kernelspec": {
   "display_name": "Python 3.8.8 64-bit ('base': conda)",
   "name": "python3"
  },
  "language_info": {
   "codemirror_mode": {
    "name": "ipython",
    "version": 3
   },
   "file_extension": ".py",
   "mimetype": "text/x-python",
   "name": "python",
   "nbconvert_exporter": "python",
   "pygments_lexer": "ipython3",
   "version": "3.8.8"
  },
  "orig_nbformat": 4
 },
 "nbformat": 4,
 "nbformat_minor": 2
}
