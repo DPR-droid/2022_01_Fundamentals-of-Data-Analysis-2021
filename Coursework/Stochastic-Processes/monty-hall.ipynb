{
 "cells": [
  {
   "cell_type": "markdown",
   "metadata": {},
   "source": [
    "# The Monty Hall Problem\n",
    "\n",
    "***"
   ]
  },
  {
   "cell_type": "markdown",
   "metadata": {},
   "source": [
    "See the [Wikipedia entry](https://en.wikipedia.org/wiki/Monty_Hall_problem) for a summary of the problem.\n",
    "\n",
    "<br>"
   ]
  },
  {
   "cell_type": "markdown",
   "metadata": {},
   "source": [
    "## Random door selection\n",
    "\n",
    "***\n",
    "\n",
    "Here's some code to pick a door at random.\n",
    "\n",
    "See [Real Python's Generating Random Data in Python](https://realpython.com/python-random/) for more information."
   ]
  },
  {
   "cell_type": "code",
   "execution_count": 1,
   "metadata": {},
   "outputs": [
    {
     "name": "stdout",
     "output_type": "stream",
     "text": [
      "blue\n"
     ]
    }
   ],
   "source": [
    "# Python provides a library called random to generate pseudo-random numbers and do stuff with them.\n",
    "import random\n",
    "\n",
    "# The three doors in a list.\n",
    "doors = ['red', 'green', 'blue']\n",
    "\n",
    "# Pick a random door.\n",
    "print(random.choice(doors))"
   ]
  },
  {
   "cell_type": "markdown",
   "metadata": {},
   "source": [
    "<br>\n",
    "\n",
    "## Checking the randomness\n",
    "\n",
    "***\n",
    "\n",
    "The pick is meant to give a one third probability to each door. Let's pick 10,000 doors are see if that looks correct."
   ]
  },
  {
   "cell_type": "code",
   "execution_count": 2,
   "metadata": {},
   "outputs": [
    {
     "name": "stdout",
     "output_type": "stream",
     "text": [
      "First ten items:  ['red', 'red', 'blue', 'green', 'blue', 'blue', 'green', 'blue', 'blue', 'blue']\n",
      "Out of the 10000: 3339 were red, 3337 were green, and 3324 were blue.\n"
     ]
    }
   ],
   "source": [
    "# 10,000 random doors.\n",
    "no_doors = 10000\n",
    "tenthous = [random.choice(doors) for i in range(no_doors)]\n",
    "\n",
    "# Count the number of each colour.\n",
    "red = tenthous.count('red')\n",
    "blue = tenthous.count('blue')\n",
    "green = tenthous.count('green')\n",
    "\n",
    "print(\"First ten items: \", tenthous[:10])\n",
    "print(f\"Out of the {no_doors}: {red} were red, {green} were green, and {blue} were blue.\")"
   ]
  },
  {
   "cell_type": "markdown",
   "metadata": {},
   "source": [
    "<br>\n",
    "\n",
    "Let's plot it and see that each door is picked about a third of the time."
   ]
  },
  {
   "cell_type": "code",
   "execution_count": 3,
   "metadata": {},
   "outputs": [],
   "source": [
    "# We'll just use pyplot for plotting.\n",
    "import matplotlib.pyplot as plt\n",
    "# Change the way plots look.\n",
    "plt.style.use('seaborn')"
   ]
  },
  {
   "cell_type": "code",
   "execution_count": 4,
   "metadata": {},
   "outputs": [
    {
     "data": {
      "image/png": "[encoded data removed]",
      "text/plain": [
       "<Figure size 864x288 with 1 Axes>"
      ]
     },
     "metadata": {},
     "output_type": "display_data"
    }
   ],
   "source": [
    "fig, ax = plt.subplots(figsize=(12,4))\n",
    "ax.barh(['Red', 'Green', 'Blue'], [red, green, blue], color=['#FC4F30', '#6D904F', '#008FD5']);"
   ]
  },
  {
   "cell_type": "markdown",
   "metadata": {},
   "source": [
    "<br>\n",
    "\n",
    "## Simulate a game\n",
    "\n",
    "***"
   ]
  },
  {
   "cell_type": "markdown",
   "metadata": {},
   "source": [
    "Let's simulate the game now with the following steps:\n",
    "\n",
    "1. Pick a door to put the car behind.\n",
    "2. Have the contestant pick a door.\n",
    "3. Have the show host open one of the other doors to reveal a goat.\n",
    "4. Ask the contestant if they want to switch.\n",
    "5. Figure out whether or not the contestant wins.\n",
    "\n",
    "The question we're looking to answer is whether staying with your original pick makes a difference."
   ]
  },
  {
   "cell_type": "code",
   "execution_count": 5,
   "metadata": {},
   "outputs": [],
   "source": [
    "def simulate(stay=True):\n",
    "    \"\"\"A function to simulate a game and tell us if the contestant wins.\n",
    "       The contestant's strategy is to stay with their original choice\n",
    "       if the parameter stay is True, and otherwise they switch.\"\"\"\n",
    "    \n",
    "    # The three doors.\n",
    "    doors = ['red', 'green', 'blue']\n",
    "    \n",
    "    # 1. Pick a door to put the car behind.\n",
    "    car = random.choice(doors)\n",
    "    \n",
    "    # 2. Have the contestant pick a door.\n",
    "    pick = random.choice(doors)\n",
    "    \n",
    "    # 3. Have the show host open one of the other doors to reveal a goat.\n",
    "    canopen = [door for door in doors if door != car and door != pick]\n",
    "    show = random.choice(canopen)\n",
    "\n",
    "    # 4. Ask the contestant if they want to switch (specified by stay parameter).\n",
    "    if not stay:\n",
    "        # This is a bit hacky but gets the job done.\n",
    "        pick = [door for door in doors if door != pick and door != show][0]\n",
    "    \n",
    "    # 5. Figure out whether or not the contestant wins.\n",
    "    if pick == car:\n",
    "        return True\n",
    "    else:\n",
    "        return False"
   ]
  },
  {
   "cell_type": "markdown",
   "metadata": {},
   "source": [
    "<br>\n",
    "\n",
    "We can now simulate a game in which the contestant stays with their original pick by running the following.\n",
    "\n",
    "A return value of True means they won the car, False means they didn't."
   ]
  },
  {
   "cell_type": "code",
   "execution_count": 6,
   "metadata": {},
   "outputs": [
    {
     "data": {
      "text/plain": [
       "False"
      ]
     },
     "execution_count": 6,
     "metadata": {},
     "output_type": "execute_result"
    }
   ],
   "source": [
    "simulate(stay=True)"
   ]
  },
  {
   "cell_type": "markdown",
   "metadata": {},
   "source": [
    "<br>\n",
    "\n",
    "## Simlulate ten thousand games\n",
    "\n",
    "***"
   ]
  },
  {
   "cell_type": "markdown",
   "metadata": {},
   "source": [
    "Let's run the game 10,000 times where the contestant stays.\n",
    "\n",
    "We'll see how often they win."
   ]
  },
  {
   "cell_type": "code",
   "execution_count": 7,
   "metadata": {},
   "outputs": [],
   "source": [
    "staying = [simulate(stay=True) for i in range(10000)]"
   ]
  },
  {
   "cell_type": "markdown",
   "metadata": {},
   "source": [
    "<br>\n",
    "\n",
    "Plot the result of staying."
   ]
  },
  {
   "cell_type": "code",
   "execution_count": 8,
   "metadata": {},
   "outputs": [
    {
     "data": {
      "image/png": "[encoded data removed]",
      "text/plain": [
       "<Figure size 864x288 with 1 Axes>"
      ]
     },
     "metadata": {},
     "output_type": "display_data"
    }
   ],
   "source": [
    "fig, ax = plt.subplots(figsize=(12,4))\n",
    "ax.barh(['Win', 'Lose'], [staying.count(True), staying.count(False)], color=['#6D904F', '#FC4F30']);"
   ]
  },
  {
   "cell_type": "markdown",
   "metadata": {},
   "source": [
    "<br>\n",
    "\n",
    "Looks like when the contestant stays, they win only about a third of the time.\n",
    "\n",
    "Let's run the game 10,000 times where the contestant switches.\n",
    "\n",
    "We'll see how often they win."
   ]
  },
  {
   "cell_type": "code",
   "execution_count": 9,
   "metadata": {},
   "outputs": [],
   "source": [
    "switching = [simulate(stay=False) for i in range(10000)]"
   ]
  },
  {
   "cell_type": "code",
   "execution_count": 10,
   "metadata": {},
   "outputs": [
    {
     "data": {
      "image/png": "[encoded data removed]",
      "text/plain": [
       "<Figure size 864x288 with 1 Axes>"
      ]
     },
     "metadata": {},
     "output_type": "display_data"
    }
   ],
   "source": [
    "fig, ax = plt.subplots(figsize=(12,4))\n",
    "ax.barh(['Win', 'Lose'], [switching.count(True), switching.count(False)], color=['#6D904F', '#FC4F30']);"
   ]
  },
  {
   "cell_type": "markdown",
   "metadata": {},
   "source": [
    "<br>\n",
    "\n",
    "Looks like you win two thirds of the time if you switch."
   ]
  },
  {
   "cell_type": "markdown",
   "metadata": {},
   "source": [
    "## End"
   ]
  }
 ],
 "metadata": {
  "interpreter": {
   "hash": "b3ba2566441a7c06988d0923437866b63cedc61552a5af99d1f4fb67d367b25f"
  },
  "kernelspec": {
   "display_name": "Python 3.8.8 64-bit ('base': conda)",
   "name": "python3"
  },
  "language_info": {
   "codemirror_mode": {
    "name": "ipython",
    "version": 3
   },
   "file_extension": ".py",
   "mimetype": "text/x-python",
   "name": "python",
   "nbconvert_exporter": "python",
   "pygments_lexer": "ipython3",
   "version": "3.8.8"
  }
 },
 "nbformat": 4,
 "nbformat_minor": 4
}
